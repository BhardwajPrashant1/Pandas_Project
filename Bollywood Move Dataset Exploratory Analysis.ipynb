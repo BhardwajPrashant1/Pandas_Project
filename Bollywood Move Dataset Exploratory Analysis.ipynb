{
 "cells": [
  {
   "cell_type": "code",
   "execution_count": 1,
   "id": "cc464b17",
   "metadata": {},
   "outputs": [],
   "source": [
    "import  pandas as pd"
   ]
  },
  {
   "cell_type": "code",
   "execution_count": 2,
   "id": "b32b322a",
   "metadata": {},
   "outputs": [],
   "source": [
    "#Read the csv file\n",
    "df=pd.read_csv(\"D:\\ChromeDownloads\\MoviesData.csv\")"
   ]
  },
  {
   "cell_type": "code",
   "execution_count": 3,
   "id": "b7ad98b6",
   "metadata": {},
   "outputs": [
    {
     "data": {
      "text/html": [
       "<div>\n",
       "<style scoped>\n",
       "    .dataframe tbody tr th:only-of-type {\n",
       "        vertical-align: middle;\n",
       "    }\n",
       "\n",
       "    .dataframe tbody tr th {\n",
       "        vertical-align: top;\n",
       "    }\n",
       "\n",
       "    .dataframe thead th {\n",
       "        text-align: right;\n",
       "    }\n",
       "</style>\n",
       "<table border=\"1\" class=\"dataframe\">\n",
       "  <thead>\n",
       "    <tr style=\"text-align: right;\">\n",
       "      <th></th>\n",
       "      <th>Movie Name</th>\n",
       "      <th>Release Period</th>\n",
       "      <th>Whether Remake</th>\n",
       "      <th>Whether Franchise</th>\n",
       "      <th>Genre</th>\n",
       "      <th>New Actor</th>\n",
       "      <th>New Director</th>\n",
       "      <th>New Music Director</th>\n",
       "      <th>Lead Star</th>\n",
       "      <th>Director</th>\n",
       "      <th>Music Director</th>\n",
       "      <th>Number of Screens</th>\n",
       "      <th>Revenue(INR)</th>\n",
       "      <th>Budget(INR)</th>\n",
       "    </tr>\n",
       "  </thead>\n",
       "  <tbody>\n",
       "    <tr>\n",
       "      <th>0</th>\n",
       "      <td>Golden Boys</td>\n",
       "      <td>Normal</td>\n",
       "      <td>No</td>\n",
       "      <td>No</td>\n",
       "      <td>suspense</td>\n",
       "      <td>Yes</td>\n",
       "      <td>No</td>\n",
       "      <td>No</td>\n",
       "      <td>Jeet Goswami</td>\n",
       "      <td>Ravi Varma</td>\n",
       "      <td>Baba Jagirdar</td>\n",
       "      <td>5</td>\n",
       "      <td>5000000</td>\n",
       "      <td>85000</td>\n",
       "    </tr>\n",
       "    <tr>\n",
       "      <th>1</th>\n",
       "      <td>Kaccha Limboo</td>\n",
       "      <td>Holiday</td>\n",
       "      <td>No</td>\n",
       "      <td>No</td>\n",
       "      <td>drama</td>\n",
       "      <td>Yes</td>\n",
       "      <td>No</td>\n",
       "      <td>Yes</td>\n",
       "      <td>Karan Bhanushali</td>\n",
       "      <td>Sagar Ballary</td>\n",
       "      <td>Amardeep Nijjer</td>\n",
       "      <td>75</td>\n",
       "      <td>15000000</td>\n",
       "      <td>825000</td>\n",
       "    </tr>\n",
       "    <tr>\n",
       "      <th>2</th>\n",
       "      <td>Not A Love Story</td>\n",
       "      <td>Holiday</td>\n",
       "      <td>No</td>\n",
       "      <td>No</td>\n",
       "      <td>thriller</td>\n",
       "      <td>No</td>\n",
       "      <td>No</td>\n",
       "      <td>No</td>\n",
       "      <td>Mahie Gill</td>\n",
       "      <td>Ram Gopal Verma</td>\n",
       "      <td>Sandeep Chowta</td>\n",
       "      <td>525</td>\n",
       "      <td>75000000</td>\n",
       "      <td>56700000</td>\n",
       "    </tr>\n",
       "    <tr>\n",
       "      <th>3</th>\n",
       "      <td>Qaidi Band</td>\n",
       "      <td>Holiday</td>\n",
       "      <td>No</td>\n",
       "      <td>No</td>\n",
       "      <td>drama</td>\n",
       "      <td>Yes</td>\n",
       "      <td>No</td>\n",
       "      <td>No</td>\n",
       "      <td>Aadar Jain</td>\n",
       "      <td>Habib Faisal</td>\n",
       "      <td>Amit Trivedi</td>\n",
       "      <td>800</td>\n",
       "      <td>210000000</td>\n",
       "      <td>4500000</td>\n",
       "    </tr>\n",
       "    <tr>\n",
       "      <th>4</th>\n",
       "      <td>Chaatwali</td>\n",
       "      <td>Holiday</td>\n",
       "      <td>No</td>\n",
       "      <td>No</td>\n",
       "      <td>adult</td>\n",
       "      <td>Yes</td>\n",
       "      <td>Yes</td>\n",
       "      <td>Yes</td>\n",
       "      <td>Aadil Khan</td>\n",
       "      <td>Aadil Khan</td>\n",
       "      <td>Babloo Ustad</td>\n",
       "      <td>1</td>\n",
       "      <td>1000000</td>\n",
       "      <td>1075000</td>\n",
       "    </tr>\n",
       "  </tbody>\n",
       "</table>\n",
       "</div>"
      ],
      "text/plain": [
       "         Movie Name Release Period Whether Remake Whether Franchise     Genre  \\\n",
       "0       Golden Boys         Normal             No                No  suspense   \n",
       "1     Kaccha Limboo        Holiday             No                No     drama   \n",
       "2  Not A Love Story        Holiday             No                No  thriller   \n",
       "3        Qaidi Band        Holiday             No                No     drama   \n",
       "4         Chaatwali        Holiday             No                No     adult   \n",
       "\n",
       "  New Actor New Director New Music Director         Lead Star  \\\n",
       "0       Yes           No                 No      Jeet Goswami   \n",
       "1       Yes           No                Yes  Karan Bhanushali   \n",
       "2        No           No                 No        Mahie Gill   \n",
       "3       Yes           No                 No        Aadar Jain   \n",
       "4       Yes          Yes                Yes        Aadil Khan   \n",
       "\n",
       "          Director   Music Director  Number of Screens  Revenue(INR)  \\\n",
       "0       Ravi Varma    Baba Jagirdar                  5       5000000   \n",
       "1    Sagar Ballary  Amardeep Nijjer                 75      15000000   \n",
       "2  Ram Gopal Verma   Sandeep Chowta                525      75000000   \n",
       "3     Habib Faisal     Amit Trivedi                800     210000000   \n",
       "4       Aadil Khan     Babloo Ustad                  1       1000000   \n",
       "\n",
       "   Budget(INR)  \n",
       "0        85000  \n",
       "1       825000  \n",
       "2     56700000  \n",
       "3      4500000  \n",
       "4      1075000  "
      ]
     },
     "execution_count": 3,
     "metadata": {},
     "output_type": "execute_result"
    }
   ],
   "source": [
    "#Check the data by viewing the first few rows of the dataset \n",
    "df.head()"
   ]
  },
  {
   "cell_type": "code",
   "execution_count": 4,
   "id": "0d347ec5",
   "metadata": {},
   "outputs": [
    {
     "data": {
      "text/plain": [
       "(1698, 14)"
      ]
     },
     "execution_count": 4,
     "metadata": {},
     "output_type": "execute_result"
    }
   ],
   "source": [
    "#shape of the dataset using the shape attribute\n",
    "df.shape"
   ]
  },
  {
   "cell_type": "code",
   "execution_count": 5,
   "id": "dab4639c",
   "metadata": {},
   "outputs": [
    {
     "data": {
      "text/plain": [
       "Index(['Movie Name', 'Release Period', 'Whether Remake', 'Whether Franchise',\n",
       "       'Genre', 'New Actor', 'New Director', 'New Music Director', 'Lead Star',\n",
       "       'Director', 'Music Director', 'Number of Screens', 'Revenue(INR)',\n",
       "       'Budget(INR)'],\n",
       "      dtype='object')"
      ]
     },
     "execution_count": 5,
     "metadata": {},
     "output_type": "execute_result"
    }
   ],
   "source": [
    "df.columns"
   ]
  },
  {
   "cell_type": "code",
   "execution_count": 6,
   "id": "b2d84f8b",
   "metadata": {},
   "outputs": [
    {
     "data": {
      "text/plain": [
       "Movie Name            object\n",
       "Release Period        object\n",
       "Whether Remake        object\n",
       "Whether Franchise     object\n",
       "Genre                 object\n",
       "New Actor             object\n",
       "New Director          object\n",
       "New Music Director    object\n",
       "Lead Star             object\n",
       "Director              object\n",
       "Music Director        object\n",
       "Number of Screens      int64\n",
       "Revenue(INR)           int64\n",
       "Budget(INR)            int64\n",
       "dtype: object"
      ]
     },
     "execution_count": 6,
     "metadata": {},
     "output_type": "execute_result"
    }
   ],
   "source": [
    "#check for the data types of each column \n",
    "df.dtypes"
   ]
  },
  {
   "cell_type": "code",
   "execution_count": 7,
   "id": "7e0e5e2e",
   "metadata": {},
   "outputs": [
    {
     "data": {
      "text/plain": [
       "Movie Name            0\n",
       "Release Period        0\n",
       "Whether Remake        0\n",
       "Whether Franchise     0\n",
       "Genre                 0\n",
       "New Actor             0\n",
       "New Director          0\n",
       "New Music Director    0\n",
       "Lead Star             0\n",
       "Director              0\n",
       "Music Director        0\n",
       "Number of Screens     0\n",
       "Revenue(INR)          0\n",
       "Budget(INR)           0\n",
       "dtype: int64"
      ]
     },
     "execution_count": 7,
     "metadata": {},
     "output_type": "execute_result"
    }
   ],
   "source": [
    "#check for the missing values using the isnull() \n",
    "df.isnull().sum()"
   ]
  },
  {
   "cell_type": "code",
   "execution_count": 8,
   "id": "03477092",
   "metadata": {},
   "outputs": [
    {
     "data": {
      "text/html": [
       "<div>\n",
       "<style scoped>\n",
       "    .dataframe tbody tr th:only-of-type {\n",
       "        vertical-align: middle;\n",
       "    }\n",
       "\n",
       "    .dataframe tbody tr th {\n",
       "        vertical-align: top;\n",
       "    }\n",
       "\n",
       "    .dataframe thead th {\n",
       "        text-align: right;\n",
       "    }\n",
       "</style>\n",
       "<table border=\"1\" class=\"dataframe\">\n",
       "  <thead>\n",
       "    <tr style=\"text-align: right;\">\n",
       "      <th></th>\n",
       "      <th>Number of Screens</th>\n",
       "      <th>Revenue(INR)</th>\n",
       "      <th>Budget(INR)</th>\n",
       "    </tr>\n",
       "  </thead>\n",
       "  <tbody>\n",
       "    <tr>\n",
       "      <th>count</th>\n",
       "      <td>1698.000000</td>\n",
       "      <td>1.698000e+03</td>\n",
       "      <td>1.698000e+03</td>\n",
       "    </tr>\n",
       "    <tr>\n",
       "      <th>mean</th>\n",
       "      <td>553.831567</td>\n",
       "      <td>1.501674e+08</td>\n",
       "      <td>2.377287e+08</td>\n",
       "    </tr>\n",
       "    <tr>\n",
       "      <th>std</th>\n",
       "      <td>782.951839</td>\n",
       "      <td>2.434838e+08</td>\n",
       "      <td>6.134398e+08</td>\n",
       "    </tr>\n",
       "    <tr>\n",
       "      <th>min</th>\n",
       "      <td>1.000000</td>\n",
       "      <td>3.250000e+05</td>\n",
       "      <td>7.250000e+03</td>\n",
       "    </tr>\n",
       "    <tr>\n",
       "      <th>25%</th>\n",
       "      <td>30.000000</td>\n",
       "      <td>1.500000e+07</td>\n",
       "      <td>1.150000e+06</td>\n",
       "    </tr>\n",
       "    <tr>\n",
       "      <th>50%</th>\n",
       "      <td>200.000000</td>\n",
       "      <td>5.500000e+07</td>\n",
       "      <td>1.240000e+07</td>\n",
       "    </tr>\n",
       "    <tr>\n",
       "      <th>75%</th>\n",
       "      <td>800.000000</td>\n",
       "      <td>1.900000e+08</td>\n",
       "      <td>1.778325e+08</td>\n",
       "    </tr>\n",
       "    <tr>\n",
       "      <th>max</th>\n",
       "      <td>4600.000000</td>\n",
       "      <td>2.100000e+09</td>\n",
       "      <td>8.016120e+09</td>\n",
       "    </tr>\n",
       "  </tbody>\n",
       "</table>\n",
       "</div>"
      ],
      "text/plain": [
       "       Number of Screens  Revenue(INR)   Budget(INR)\n",
       "count        1698.000000  1.698000e+03  1.698000e+03\n",
       "mean          553.831567  1.501674e+08  2.377287e+08\n",
       "std           782.951839  2.434838e+08  6.134398e+08\n",
       "min             1.000000  3.250000e+05  7.250000e+03\n",
       "25%            30.000000  1.500000e+07  1.150000e+06\n",
       "50%           200.000000  5.500000e+07  1.240000e+07\n",
       "75%           800.000000  1.900000e+08  1.778325e+08\n",
       "max          4600.000000  2.100000e+09  8.016120e+09"
      ]
     },
     "execution_count": 8,
     "metadata": {},
     "output_type": "execute_result"
    }
   ],
   "source": [
    "#Get the descriptive statistics of the dataset\n",
    "df.describe()"
   ]
  },
  {
   "cell_type": "code",
   "execution_count": 9,
   "id": "4dfba1e8",
   "metadata": {},
   "outputs": [
    {
     "data": {
      "text/plain": [
       "Aatma               2\n",
       "Sanam Teri Kasam    2\n",
       "Game                2\n",
       "Golden Boys         1\n",
       "Mithya              1\n",
       "                   ..\n",
       "Krrish              1\n",
       "Agneepath           1\n",
       "Mohenjo Daro        1\n",
       "Jodhaa Akbar        1\n",
       "Mr. Hot Mr. Kool    1\n",
       "Name: Movie Name, Length: 1695, dtype: int64"
      ]
     },
     "execution_count": 9,
     "metadata": {},
     "output_type": "execute_result"
    }
   ],
   "source": [
    "#to count the frequency of each unique value in a column\n",
    "df['Movie Name'].value_counts()"
   ]
  },
  {
   "cell_type": "code",
   "execution_count": 10,
   "id": "17c45531",
   "metadata": {},
   "outputs": [],
   "source": [
    "#As we know Movie Name has some Duplicate Values,let's drop these\n",
    "df.drop_duplicates(subset=['Movie Name'],inplace=True)"
   ]
  },
  {
   "cell_type": "code",
   "execution_count": 11,
   "id": "021c804c",
   "metadata": {},
   "outputs": [
    {
     "data": {
      "text/plain": [
       "Golden Boys         1\n",
       "Karma Aur Holi      1\n",
       "Fatso               1\n",
       "Mithya              1\n",
       "Mixed Doubles       1\n",
       "                   ..\n",
       "Agneepath           1\n",
       "Mohenjo Daro        1\n",
       "Jodhaa Akbar        1\n",
       "Kites               1\n",
       "Mr. Hot Mr. Kool    1\n",
       "Name: Movie Name, Length: 1695, dtype: int64"
      ]
     },
     "execution_count": 11,
     "metadata": {},
     "output_type": "execute_result"
    }
   ],
   "source": [
    "#Check if duplicaes removed from Movie Column\n",
    "df['Movie Name'].value_counts()"
   ]
  },
  {
   "cell_type": "code",
   "execution_count": 12,
   "id": "a7d9df25",
   "metadata": {},
   "outputs": [
    {
     "data": {
      "text/plain": [
       "Movie Name            1695\n",
       "Release Period           2\n",
       "Whether Remake           2\n",
       "Whether Franchise        2\n",
       "Genre                   14\n",
       "New Actor                2\n",
       "New Director             2\n",
       "New Music Director       2\n",
       "Lead Star              764\n",
       "Director              1048\n",
       "Music Director         630\n",
       "Number of Screens      147\n",
       "Revenue(INR)           184\n",
       "Budget(INR)           1104\n",
       "dtype: int64"
      ]
     },
     "execution_count": 12,
     "metadata": {},
     "output_type": "execute_result"
    }
   ],
   "source": [
    "# return the number of unique values in each column of the DataFrame\n",
    "df.nunique()"
   ]
  },
  {
   "cell_type": "code",
   "execution_count": 13,
   "id": "5f2237e4",
   "metadata": {},
   "outputs": [
    {
     "data": {
      "text/html": [
       "<div>\n",
       "<style scoped>\n",
       "    .dataframe tbody tr th:only-of-type {\n",
       "        vertical-align: middle;\n",
       "    }\n",
       "\n",
       "    .dataframe tbody tr th {\n",
       "        vertical-align: top;\n",
       "    }\n",
       "\n",
       "    .dataframe thead th {\n",
       "        text-align: right;\n",
       "    }\n",
       "</style>\n",
       "<table border=\"1\" class=\"dataframe\">\n",
       "  <thead>\n",
       "    <tr style=\"text-align: right;\">\n",
       "      <th></th>\n",
       "      <th>Movie Name</th>\n",
       "      <th>Release Period</th>\n",
       "      <th>Whether Remake</th>\n",
       "      <th>Whether Franchise</th>\n",
       "      <th>Genre</th>\n",
       "      <th>New Actor</th>\n",
       "      <th>New Director</th>\n",
       "      <th>New Music Director</th>\n",
       "      <th>Lead Star</th>\n",
       "      <th>Director</th>\n",
       "      <th>Music Director</th>\n",
       "      <th>Number of Screens</th>\n",
       "      <th>Revenue(INR)</th>\n",
       "      <th>Budget(INR)</th>\n",
       "    </tr>\n",
       "  </thead>\n",
       "  <tbody>\n",
       "    <tr>\n",
       "      <th>0</th>\n",
       "      <td>Golden Boys</td>\n",
       "      <td>Normal</td>\n",
       "      <td>No</td>\n",
       "      <td>No</td>\n",
       "      <td>suspense</td>\n",
       "      <td>Yes</td>\n",
       "      <td>No</td>\n",
       "      <td>No</td>\n",
       "      <td>Jeet Goswami</td>\n",
       "      <td>Ravi Varma</td>\n",
       "      <td>Baba Jagirdar</td>\n",
       "      <td>5</td>\n",
       "      <td>5000000</td>\n",
       "      <td>85000</td>\n",
       "    </tr>\n",
       "    <tr>\n",
       "      <th>1</th>\n",
       "      <td>Kaccha Limboo</td>\n",
       "      <td>Holiday</td>\n",
       "      <td>No</td>\n",
       "      <td>No</td>\n",
       "      <td>drama</td>\n",
       "      <td>Yes</td>\n",
       "      <td>No</td>\n",
       "      <td>Yes</td>\n",
       "      <td>Karan Bhanushali</td>\n",
       "      <td>Sagar Ballary</td>\n",
       "      <td>Amardeep Nijjer</td>\n",
       "      <td>75</td>\n",
       "      <td>15000000</td>\n",
       "      <td>825000</td>\n",
       "    </tr>\n",
       "    <tr>\n",
       "      <th>2</th>\n",
       "      <td>Not A Love Story</td>\n",
       "      <td>Holiday</td>\n",
       "      <td>No</td>\n",
       "      <td>No</td>\n",
       "      <td>thriller</td>\n",
       "      <td>No</td>\n",
       "      <td>No</td>\n",
       "      <td>No</td>\n",
       "      <td>Mahie Gill</td>\n",
       "      <td>Ram Gopal Verma</td>\n",
       "      <td>Sandeep Chowta</td>\n",
       "      <td>525</td>\n",
       "      <td>75000000</td>\n",
       "      <td>56700000</td>\n",
       "    </tr>\n",
       "    <tr>\n",
       "      <th>3</th>\n",
       "      <td>Qaidi Band</td>\n",
       "      <td>Holiday</td>\n",
       "      <td>No</td>\n",
       "      <td>No</td>\n",
       "      <td>drama</td>\n",
       "      <td>Yes</td>\n",
       "      <td>No</td>\n",
       "      <td>No</td>\n",
       "      <td>Aadar Jain</td>\n",
       "      <td>Habib Faisal</td>\n",
       "      <td>Amit Trivedi</td>\n",
       "      <td>800</td>\n",
       "      <td>210000000</td>\n",
       "      <td>4500000</td>\n",
       "    </tr>\n",
       "  </tbody>\n",
       "</table>\n",
       "</div>"
      ],
      "text/plain": [
       "         Movie Name Release Period Whether Remake Whether Franchise     Genre  \\\n",
       "0       Golden Boys         Normal             No                No  suspense   \n",
       "1     Kaccha Limboo        Holiday             No                No     drama   \n",
       "2  Not A Love Story        Holiday             No                No  thriller   \n",
       "3        Qaidi Band        Holiday             No                No     drama   \n",
       "\n",
       "  New Actor New Director New Music Director         Lead Star  \\\n",
       "0       Yes           No                 No      Jeet Goswami   \n",
       "1       Yes           No                Yes  Karan Bhanushali   \n",
       "2        No           No                 No        Mahie Gill   \n",
       "3       Yes           No                 No        Aadar Jain   \n",
       "\n",
       "          Director   Music Director  Number of Screens  Revenue(INR)  \\\n",
       "0       Ravi Varma    Baba Jagirdar                  5       5000000   \n",
       "1    Sagar Ballary  Amardeep Nijjer                 75      15000000   \n",
       "2  Ram Gopal Verma   Sandeep Chowta                525      75000000   \n",
       "3     Habib Faisal     Amit Trivedi                800     210000000   \n",
       "\n",
       "   Budget(INR)  \n",
       "0        85000  \n",
       "1       825000  \n",
       "2     56700000  \n",
       "3      4500000  "
      ]
     },
     "execution_count": 13,
     "metadata": {},
     "output_type": "execute_result"
    }
   ],
   "source": [
    "df.head(4)"
   ]
  },
  {
   "cell_type": "code",
   "execution_count": 14,
   "id": "ef4af101",
   "metadata": {},
   "outputs": [
    {
     "data": {
      "text/plain": [
       "'Tiger Zinda Hai'"
      ]
     },
     "execution_count": 14,
     "metadata": {},
     "output_type": "execute_result"
    }
   ],
   "source": [
    "#get the movie with the highest revenue:way 1\n",
    "df.groupby('Movie Name')['Revenue(INR)'].max().idxmax()"
   ]
  },
  {
   "cell_type": "code",
   "execution_count": 15,
   "id": "173a23a6",
   "metadata": {},
   "outputs": [
    {
     "name": "stdout",
     "output_type": "stream",
     "text": [
      "Movie Name             Tiger Zinda Hai\n",
      "Release Period                 Holiday\n",
      "Whether Remake                      No\n",
      "Whether Franchise                  Yes\n",
      "Genre                           action\n",
      "New Actor                           No\n",
      "New Director                        No\n",
      "New Music Director                  No\n",
      "Lead Star                  Salman Khan\n",
      "Director               Ali Abbas Zafar\n",
      "Music Director        Vishal - Shekhar\n",
      "Number of Screens                 4600\n",
      "Revenue(INR)                2100000000\n",
      "Budget(INR)                 5651020000\n",
      "Name: 1240, dtype: object\n"
     ]
    }
   ],
   "source": [
    "#get the movie with the highest revenue:way 2\n",
    "a=df['Revenue(INR)'].idxmax()\n",
    "print(df.loc[a])"
   ]
  },
  {
   "cell_type": "code",
   "execution_count": 16,
   "id": "4fce480c",
   "metadata": {},
   "outputs": [
    {
     "data": {
      "text/plain": [
       "'Tiger Zinda Hai'"
      ]
     },
     "execution_count": 16,
     "metadata": {},
     "output_type": "execute_result"
    }
   ],
   "source": [
    "#get the movie with the highest revenue:way 2\n",
    "df.loc[df['Revenue(INR)'].idxmax(), 'Movie Name']"
   ]
  },
  {
   "cell_type": "code",
   "execution_count": 17,
   "id": "2e244c66",
   "metadata": {},
   "outputs": [
    {
     "data": {
      "text/plain": [
       "1240    Ali Abbas Zafar\n",
       "Name: Director, dtype: object"
      ]
     },
     "execution_count": 17,
     "metadata": {},
     "output_type": "execute_result"
    }
   ],
   "source": [
    "#Get the name of the Director for above result\n",
    "df[(df['Movie Name']=='Tiger Zinda Hai')]['Director']"
   ]
  },
  {
   "cell_type": "code",
   "execution_count": 18,
   "id": "9a082d28",
   "metadata": {},
   "outputs": [
    {
     "data": {
      "text/html": [
       "<div>\n",
       "<style scoped>\n",
       "    .dataframe tbody tr th:only-of-type {\n",
       "        vertical-align: middle;\n",
       "    }\n",
       "\n",
       "    .dataframe tbody tr th {\n",
       "        vertical-align: top;\n",
       "    }\n",
       "\n",
       "    .dataframe thead th {\n",
       "        text-align: right;\n",
       "    }\n",
       "</style>\n",
       "<table border=\"1\" class=\"dataframe\">\n",
       "  <thead>\n",
       "    <tr style=\"text-align: right;\">\n",
       "      <th></th>\n",
       "      <th>Movie Name</th>\n",
       "      <th>Release Period</th>\n",
       "      <th>Whether Remake</th>\n",
       "      <th>Whether Franchise</th>\n",
       "      <th>Genre</th>\n",
       "      <th>New Actor</th>\n",
       "      <th>New Director</th>\n",
       "      <th>New Music Director</th>\n",
       "      <th>Lead Star</th>\n",
       "      <th>Director</th>\n",
       "      <th>Music Director</th>\n",
       "      <th>Number of Screens</th>\n",
       "      <th>Revenue(INR)</th>\n",
       "      <th>Budget(INR)</th>\n",
       "    </tr>\n",
       "  </thead>\n",
       "  <tbody>\n",
       "    <tr>\n",
       "      <th>0</th>\n",
       "      <td>Golden Boys</td>\n",
       "      <td>Normal</td>\n",
       "      <td>No</td>\n",
       "      <td>No</td>\n",
       "      <td>suspense</td>\n",
       "      <td>Yes</td>\n",
       "      <td>No</td>\n",
       "      <td>No</td>\n",
       "      <td>Jeet Goswami</td>\n",
       "      <td>Ravi Varma</td>\n",
       "      <td>Baba Jagirdar</td>\n",
       "      <td>5</td>\n",
       "      <td>5000000</td>\n",
       "      <td>85000</td>\n",
       "    </tr>\n",
       "    <tr>\n",
       "      <th>1</th>\n",
       "      <td>Kaccha Limboo</td>\n",
       "      <td>Holiday</td>\n",
       "      <td>No</td>\n",
       "      <td>No</td>\n",
       "      <td>drama</td>\n",
       "      <td>Yes</td>\n",
       "      <td>No</td>\n",
       "      <td>Yes</td>\n",
       "      <td>Karan Bhanushali</td>\n",
       "      <td>Sagar Ballary</td>\n",
       "      <td>Amardeep Nijjer</td>\n",
       "      <td>75</td>\n",
       "      <td>15000000</td>\n",
       "      <td>825000</td>\n",
       "    </tr>\n",
       "    <tr>\n",
       "      <th>2</th>\n",
       "      <td>Not A Love Story</td>\n",
       "      <td>Holiday</td>\n",
       "      <td>No</td>\n",
       "      <td>No</td>\n",
       "      <td>thriller</td>\n",
       "      <td>No</td>\n",
       "      <td>No</td>\n",
       "      <td>No</td>\n",
       "      <td>Mahie Gill</td>\n",
       "      <td>Ram Gopal Verma</td>\n",
       "      <td>Sandeep Chowta</td>\n",
       "      <td>525</td>\n",
       "      <td>75000000</td>\n",
       "      <td>56700000</td>\n",
       "    </tr>\n",
       "    <tr>\n",
       "      <th>3</th>\n",
       "      <td>Qaidi Band</td>\n",
       "      <td>Holiday</td>\n",
       "      <td>No</td>\n",
       "      <td>No</td>\n",
       "      <td>drama</td>\n",
       "      <td>Yes</td>\n",
       "      <td>No</td>\n",
       "      <td>No</td>\n",
       "      <td>Aadar Jain</td>\n",
       "      <td>Habib Faisal</td>\n",
       "      <td>Amit Trivedi</td>\n",
       "      <td>800</td>\n",
       "      <td>210000000</td>\n",
       "      <td>4500000</td>\n",
       "    </tr>\n",
       "    <tr>\n",
       "      <th>4</th>\n",
       "      <td>Chaatwali</td>\n",
       "      <td>Holiday</td>\n",
       "      <td>No</td>\n",
       "      <td>No</td>\n",
       "      <td>adult</td>\n",
       "      <td>Yes</td>\n",
       "      <td>Yes</td>\n",
       "      <td>Yes</td>\n",
       "      <td>Aadil Khan</td>\n",
       "      <td>Aadil Khan</td>\n",
       "      <td>Babloo Ustad</td>\n",
       "      <td>1</td>\n",
       "      <td>1000000</td>\n",
       "      <td>1075000</td>\n",
       "    </tr>\n",
       "  </tbody>\n",
       "</table>\n",
       "</div>"
      ],
      "text/plain": [
       "         Movie Name Release Period Whether Remake Whether Franchise     Genre  \\\n",
       "0       Golden Boys         Normal             No                No  suspense   \n",
       "1     Kaccha Limboo        Holiday             No                No     drama   \n",
       "2  Not A Love Story        Holiday             No                No  thriller   \n",
       "3        Qaidi Band        Holiday             No                No     drama   \n",
       "4         Chaatwali        Holiday             No                No     adult   \n",
       "\n",
       "  New Actor New Director New Music Director         Lead Star  \\\n",
       "0       Yes           No                 No      Jeet Goswami   \n",
       "1       Yes           No                Yes  Karan Bhanushali   \n",
       "2        No           No                 No        Mahie Gill   \n",
       "3       Yes           No                 No        Aadar Jain   \n",
       "4       Yes          Yes                Yes        Aadil Khan   \n",
       "\n",
       "          Director   Music Director  Number of Screens  Revenue(INR)  \\\n",
       "0       Ravi Varma    Baba Jagirdar                  5       5000000   \n",
       "1    Sagar Ballary  Amardeep Nijjer                 75      15000000   \n",
       "2  Ram Gopal Verma   Sandeep Chowta                525      75000000   \n",
       "3     Habib Faisal     Amit Trivedi                800     210000000   \n",
       "4       Aadil Khan     Babloo Ustad                  1       1000000   \n",
       "\n",
       "   Budget(INR)  \n",
       "0        85000  \n",
       "1       825000  \n",
       "2     56700000  \n",
       "3      4500000  \n",
       "4      1075000  "
      ]
     },
     "execution_count": 18,
     "metadata": {},
     "output_type": "execute_result"
    }
   ],
   "source": [
    "df.head()"
   ]
  },
  {
   "cell_type": "code",
   "execution_count": 19,
   "id": "173d5a6c",
   "metadata": {},
   "outputs": [
    {
     "name": "stdout",
     "output_type": "stream",
     "text": [
      "Movie Name                          Dhoom 3\n",
      "Release Period                       Normal\n",
      "Whether Remake                           No\n",
      "Whether Franchise                       Yes\n",
      "Genre                                action\n",
      "New Actor                                No\n",
      "New Director                             No\n",
      "New Music Director                       No\n",
      "Lead Star                        Aamir Khan\n",
      "Director              Vijay Krishna Acharya\n",
      "Music Director                       Pritam\n",
      "Number of Screens                      3650\n",
      "Revenue(INR)                     1750000000\n",
      "Budget(INR)                      5243760000\n",
      "Name: 17, dtype: object\n"
     ]
    }
   ],
   "source": [
    "#Get the details of the movied which is having highest revenue and not released on any Holiday\n",
    "b=df[df['Release Period']=='Normal']['Revenue(INR)'].idxmax()\n",
    "print(df.loc[b])"
   ]
  },
  {
   "cell_type": "code",
   "execution_count": 20,
   "id": "79edf653",
   "metadata": {},
   "outputs": [
    {
     "data": {
      "text/plain": [
       "639"
      ]
     },
     "execution_count": 20,
     "metadata": {},
     "output_type": "execute_result"
    }
   ],
   "source": [
    "#Count of total drama Genre Movie product in Bollywood during these years\n",
    "df[df['Genre']=='drama']['Movie Name'].count()"
   ]
  },
  {
   "cell_type": "code",
   "execution_count": 21,
   "id": "a5308fb5",
   "metadata": {},
   "outputs": [
    {
     "name": "stdout",
     "output_type": "stream",
     "text": [
      "-76323861.46589194\n"
     ]
    }
   ],
   "source": [
    "# Holiday released or Normal day released which one are making high\n",
    "normal_release = df[df['Release Period'] == 'Normal']['Revenue(INR)'].mean()\n",
    "holiday_release = df[df['Release Period'] == 'Holiday']['Revenue(INR)'].mean()\n",
    "diff = normal_release - holiday_release\n",
    "print(diff)              "
   ]
  },
  {
   "cell_type": "code",
   "execution_count": 22,
   "id": "c5f545f9",
   "metadata": {},
   "outputs": [
    {
     "data": {
      "text/plain": [
       "1062"
      ]
     },
     "execution_count": 22,
     "metadata": {},
     "output_type": "execute_result"
    }
   ],
   "source": [
    "\n",
    "\n",
    "df[df['Release Period']=='Normal']['Movie Name'].count()"
   ]
  },
  {
   "cell_type": "code",
   "execution_count": 23,
   "id": "ffc6f020",
   "metadata": {},
   "outputs": [
    {
     "data": {
      "text/plain": [
       "Release Period\n",
       "Holiday     633\n",
       "Normal     1062\n",
       "Name: Movie Name, dtype: int64"
      ]
     },
     "execution_count": 23,
     "metadata": {},
     "output_type": "execute_result"
    }
   ],
   "source": [
    "#How many movies are release on Normal Days or on Holidays?\n",
    "df.groupby('Release Period')['Movie Name'].count()"
   ]
  },
  {
   "cell_type": "code",
   "execution_count": 24,
   "id": "2da2061c",
   "metadata": {},
   "outputs": [
    {
     "data": {
      "text/plain": [
       "Genre\n",
       "action          43936750000\n",
       "adult             308700000\n",
       "animation         292500000\n",
       "comedy          43370500000\n",
       "documentary       390000000\n",
       "drama           70477075000\n",
       "fantasy          2595000000\n",
       "horror           3743500000\n",
       "love_story      20514500000\n",
       "masala          16040000000\n",
       "mythological      129000000\n",
       "rom__com        18935700000\n",
       "suspense         1162500000\n",
       "thriller        32698500000\n",
       "Name: Revenue(INR), dtype: int64"
      ]
     },
     "execution_count": 24,
     "metadata": {},
     "output_type": "execute_result"
    }
   ],
   "source": [
    "#Genre-wise revenue analysis:\n",
    "df.groupby('Genre')['Revenue(INR)'].sum()"
   ]
  },
  {
   "cell_type": "code",
   "execution_count": 25,
   "id": "7e95f1bd",
   "metadata": {},
   "outputs": [
    {
     "data": {
      "image/png": "[encoded data removed]",
      "text/plain": [
       "<Figure size 640x480 with 1 Axes>"
      ]
     },
     "metadata": {},
     "output_type": "display_data"
    }
   ],
   "source": [
    "import matplotlib.pyplot as plt\n",
    "genre_revenue = df.groupby('Genre')['Revenue(INR)'].sum()\n",
    "plt.bar(genre_revenue.index, genre_revenue.values)\n",
    "plt.xticks(rotation=65)\n",
    "plt.title('Revenue by Genre')\n",
    "plt.xlabel('Genre')\n",
    "plt.ylabel('Revenue (INR)')\n",
    "\n",
    "plt.show()"
   ]
  },
  {
   "cell_type": "code",
   "execution_count": 26,
   "id": "5fc07dca",
   "metadata": {},
   "outputs": [
    {
     "data": {
      "text/html": [
       "<div>\n",
       "<style scoped>\n",
       "    .dataframe tbody tr th:only-of-type {\n",
       "        vertical-align: middle;\n",
       "    }\n",
       "\n",
       "    .dataframe tbody tr th {\n",
       "        vertical-align: top;\n",
       "    }\n",
       "\n",
       "    .dataframe thead th {\n",
       "        text-align: right;\n",
       "    }\n",
       "</style>\n",
       "<table border=\"1\" class=\"dataframe\">\n",
       "  <thead>\n",
       "    <tr style=\"text-align: right;\">\n",
       "      <th></th>\n",
       "      <th>Movie Name</th>\n",
       "      <th>Release Period</th>\n",
       "      <th>Whether Remake</th>\n",
       "      <th>Whether Franchise</th>\n",
       "      <th>Genre</th>\n",
       "      <th>New Actor</th>\n",
       "      <th>New Director</th>\n",
       "      <th>New Music Director</th>\n",
       "      <th>Lead Star</th>\n",
       "      <th>Director</th>\n",
       "      <th>Music Director</th>\n",
       "      <th>Number of Screens</th>\n",
       "      <th>Revenue(INR)</th>\n",
       "      <th>Budget(INR)</th>\n",
       "    </tr>\n",
       "  </thead>\n",
       "  <tbody>\n",
       "    <tr>\n",
       "      <th>0</th>\n",
       "      <td>Golden Boys</td>\n",
       "      <td>Normal</td>\n",
       "      <td>No</td>\n",
       "      <td>No</td>\n",
       "      <td>suspense</td>\n",
       "      <td>Yes</td>\n",
       "      <td>No</td>\n",
       "      <td>No</td>\n",
       "      <td>Jeet Goswami</td>\n",
       "      <td>Ravi Varma</td>\n",
       "      <td>Baba Jagirdar</td>\n",
       "      <td>5</td>\n",
       "      <td>5000000</td>\n",
       "      <td>85000</td>\n",
       "    </tr>\n",
       "    <tr>\n",
       "      <th>1</th>\n",
       "      <td>Kaccha Limboo</td>\n",
       "      <td>Holiday</td>\n",
       "      <td>No</td>\n",
       "      <td>No</td>\n",
       "      <td>drama</td>\n",
       "      <td>Yes</td>\n",
       "      <td>No</td>\n",
       "      <td>Yes</td>\n",
       "      <td>Karan Bhanushali</td>\n",
       "      <td>Sagar Ballary</td>\n",
       "      <td>Amardeep Nijjer</td>\n",
       "      <td>75</td>\n",
       "      <td>15000000</td>\n",
       "      <td>825000</td>\n",
       "    </tr>\n",
       "    <tr>\n",
       "      <th>2</th>\n",
       "      <td>Not A Love Story</td>\n",
       "      <td>Holiday</td>\n",
       "      <td>No</td>\n",
       "      <td>No</td>\n",
       "      <td>thriller</td>\n",
       "      <td>No</td>\n",
       "      <td>No</td>\n",
       "      <td>No</td>\n",
       "      <td>Mahie Gill</td>\n",
       "      <td>Ram Gopal Verma</td>\n",
       "      <td>Sandeep Chowta</td>\n",
       "      <td>525</td>\n",
       "      <td>75000000</td>\n",
       "      <td>56700000</td>\n",
       "    </tr>\n",
       "    <tr>\n",
       "      <th>3</th>\n",
       "      <td>Qaidi Band</td>\n",
       "      <td>Holiday</td>\n",
       "      <td>No</td>\n",
       "      <td>No</td>\n",
       "      <td>drama</td>\n",
       "      <td>Yes</td>\n",
       "      <td>No</td>\n",
       "      <td>No</td>\n",
       "      <td>Aadar Jain</td>\n",
       "      <td>Habib Faisal</td>\n",
       "      <td>Amit Trivedi</td>\n",
       "      <td>800</td>\n",
       "      <td>210000000</td>\n",
       "      <td>4500000</td>\n",
       "    </tr>\n",
       "    <tr>\n",
       "      <th>4</th>\n",
       "      <td>Chaatwali</td>\n",
       "      <td>Holiday</td>\n",
       "      <td>No</td>\n",
       "      <td>No</td>\n",
       "      <td>adult</td>\n",
       "      <td>Yes</td>\n",
       "      <td>Yes</td>\n",
       "      <td>Yes</td>\n",
       "      <td>Aadil Khan</td>\n",
       "      <td>Aadil Khan</td>\n",
       "      <td>Babloo Ustad</td>\n",
       "      <td>1</td>\n",
       "      <td>1000000</td>\n",
       "      <td>1075000</td>\n",
       "    </tr>\n",
       "  </tbody>\n",
       "</table>\n",
       "</div>"
      ],
      "text/plain": [
       "         Movie Name Release Period Whether Remake Whether Franchise     Genre  \\\n",
       "0       Golden Boys         Normal             No                No  suspense   \n",
       "1     Kaccha Limboo        Holiday             No                No     drama   \n",
       "2  Not A Love Story        Holiday             No                No  thriller   \n",
       "3        Qaidi Band        Holiday             No                No     drama   \n",
       "4         Chaatwali        Holiday             No                No     adult   \n",
       "\n",
       "  New Actor New Director New Music Director         Lead Star  \\\n",
       "0       Yes           No                 No      Jeet Goswami   \n",
       "1       Yes           No                Yes  Karan Bhanushali   \n",
       "2        No           No                 No        Mahie Gill   \n",
       "3       Yes           No                 No        Aadar Jain   \n",
       "4       Yes          Yes                Yes        Aadil Khan   \n",
       "\n",
       "          Director   Music Director  Number of Screens  Revenue(INR)  \\\n",
       "0       Ravi Varma    Baba Jagirdar                  5       5000000   \n",
       "1    Sagar Ballary  Amardeep Nijjer                 75      15000000   \n",
       "2  Ram Gopal Verma   Sandeep Chowta                525      75000000   \n",
       "3     Habib Faisal     Amit Trivedi                800     210000000   \n",
       "4       Aadil Khan     Babloo Ustad                  1       1000000   \n",
       "\n",
       "   Budget(INR)  \n",
       "0        85000  \n",
       "1       825000  \n",
       "2     56700000  \n",
       "3      4500000  \n",
       "4      1075000  "
      ]
     },
     "execution_count": 26,
     "metadata": {},
     "output_type": "execute_result"
    }
   ],
   "source": [
    "df.head()"
   ]
  },
  {
   "cell_type": "code",
   "execution_count": 27,
   "id": "154e1f93",
   "metadata": {},
   "outputs": [
    {
     "data": {
      "text/plain": [
       "Whether Franchise\n",
       "No     220651725000\n",
       "Yes     33942500000\n",
       "Name: Revenue(INR), dtype: int64"
      ]
     },
     "execution_count": 27,
     "metadata": {},
     "output_type": "execute_result"
    }
   ],
   "source": [
    "#Franchise movies analysis:\n",
    "df.groupby('Whether Franchise')['Revenue(INR)'].sum()"
   ]
  },
  {
   "cell_type": "code",
   "execution_count": 28,
   "id": "f5acb0dd",
   "metadata": {},
   "outputs": [
    {
     "data": {
      "image/png": "[encoded data removed]",
      "text/plain": [
       "<Figure size 640x480 with 1 Axes>"
      ]
     },
     "metadata": {},
     "output_type": "display_data"
    }
   ],
   "source": [
    "revenue = df.groupby('Whether Franchise')['Revenue(INR)'].sum()\n",
    "plt.bar(revenue.index, revenue.values)\n",
    "\n",
    "plt.title('Franchise movies analysis')\n",
    "plt.xlabel('Franchise')\n",
    "plt.ylabel('Revenue (INR)')\n",
    "\n",
    "plt.show()"
   ]
  },
  {
   "cell_type": "code",
   "execution_count": 29,
   "id": "d0a3fc5a",
   "metadata": {},
   "outputs": [
    {
     "data": {
      "text/plain": [
       "Lead Star\n",
       "Akshay Kumar     24420000000\n",
       "Salman Khan      18520000000\n",
       "Ajay Devgn       15155000000\n",
       "Shahrukh Khan    13660000000\n",
       "Ranbir Kapoor    10107500000\n",
       "Name: Revenue(INR), dtype: int64"
      ]
     },
     "execution_count": 29,
     "metadata": {},
     "output_type": "execute_result"
    }
   ],
   "source": [
    "#Revenue wise Top 5 Actors\n",
    "actor_revenue=df.groupby('Lead Star')['Revenue(INR)'].sum().sort_values(ascending=False).head(5)\n",
    "actor_revenue"
   ]
  },
  {
   "cell_type": "code",
   "execution_count": 30,
   "id": "7da7be58",
   "metadata": {},
   "outputs": [
    {
     "data": {
      "image/png": "[encoded data removed]",
      "text/plain": [
       "<Figure size 640x480 with 1 Axes>"
      ]
     },
     "metadata": {},
     "output_type": "display_data"
    }
   ],
   "source": [
    "revenue = df.groupby('Lead Star')['Revenue(INR)'].sum().sort_values(ascending=False).head(5)\n",
    "plt.bar(revenue.index, revenue.values)\n",
    "plt.xticks(rotation=95)\n",
    "plt.title('Franchise movies analysis')\n",
    "plt.xlabel('Actors Name')\n",
    "plt.ylabel('Revenue (INR)')\n",
    "\n",
    "plt.show()"
   ]
  }
 ],
 "metadata": {
  "kernelspec": {
   "display_name": "Python 3 (ipykernel)",
   "language": "python",
   "name": "python3"
  },
  "language_info": {
   "codemirror_mode": {
    "name": "ipython",
    "version": 3
   },
   "file_extension": ".py",
   "mimetype": "text/x-python",
   "name": "python",
   "nbconvert_exporter": "python",
   "pygments_lexer": "ipython3",
   "version": "3.11.1"
  }
 },
 "nbformat": 4,
 "nbformat_minor": 5
}
